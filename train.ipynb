{
 "cells": [
  {
   "cell_type": "code",
   "execution_count": null,
   "metadata": {},
   "outputs": [
    {
     "name": "stdout",
     "output_type": "stream",
     "text": [
      "Training done ------------dd---\n",
      "[[[[0.21960784 0.33333334 0.57254905]\n",
      "   [0.21960784 0.33333334 0.57254905]\n",
      "   [0.19215687 0.29803923 0.5137255 ]\n",
      "   ...\n",
      "   [0.05098039 0.09019608 0.10196079]\n",
      "   [0.04705882 0.09019608 0.10588235]\n",
      "   [0.04705882 0.09019608 0.10588235]]\n",
      "\n",
      "  [[0.21960784 0.33333334 0.57254905]\n",
      "   [0.21960784 0.33333334 0.57254905]\n",
      "   [0.19215687 0.29803923 0.5137255 ]\n",
      "   ...\n",
      "   [0.05098039 0.09019608 0.10196079]\n",
      "   [0.04705882 0.09019608 0.10588235]\n",
      "   [0.04705882 0.09019608 0.10588235]]\n",
      "\n",
      "  [[0.21176471 0.32156864 0.56078434]\n",
      "   [0.21176471 0.32156864 0.56078434]\n",
      "   [0.1882353  0.29411766 0.50980395]\n",
      "   ...\n",
      "   [0.03529412 0.07450981 0.08627451]\n",
      "   [0.03137255 0.07450981 0.09411765]\n",
      "   [0.03137255 0.07450981 0.09411765]]\n",
      "\n",
      "  ...\n",
      "\n",
      "  [[0.00784314 0.07843138 0.05490196]\n",
      "   [0.00784314 0.07843138 0.05490196]\n",
      "   [0.00784314 0.07450981 0.05490196]\n",
      "   ...\n",
      "   [0.03137255 0.11372549 0.05490196]\n",
      "   [0.03137255 0.11372549 0.05490196]\n",
      "   [0.03137255 0.11372549 0.05490196]]\n",
      "\n",
      "  [[0.         0.05490196 0.03137255]\n",
      "   [0.         0.05490196 0.03137255]\n",
      "   [0.00392157 0.05882353 0.03529412]\n",
      "   ...\n",
      "   [0.03137255 0.11372549 0.05490196]\n",
      "   [0.03137255 0.11372549 0.05490196]\n",
      "   [0.03137255 0.11372549 0.05490196]]\n",
      "\n",
      "  [[0.         0.05490196 0.03137255]\n",
      "   [0.         0.05490196 0.03137255]\n",
      "   [0.         0.05882353 0.03529412]\n",
      "   ...\n",
      "   [0.03137255 0.11372549 0.05490196]\n",
      "   [0.03137255 0.11372549 0.05490196]\n",
      "   [0.03137255 0.11372549 0.05490196]]]\n",
      "\n",
      "\n",
      " [[[0.07058824 0.05098039 0.10980392]\n",
      "   [0.06666667 0.05098039 0.10196079]\n",
      "   [0.07058824 0.05098039 0.09803922]\n",
      "   ...\n",
      "   [0.         0.00392157 0.        ]\n",
      "   [0.00392157 0.01176471 0.00784314]\n",
      "   [0.01176471 0.01960784 0.01960784]]\n",
      "\n",
      "  [[0.07058824 0.05098039 0.10980392]\n",
      "   [0.07058824 0.05098039 0.10588235]\n",
      "   [0.07058824 0.05490196 0.09803922]\n",
      "   ...\n",
      "   [0.         0.00392157 0.00392157]\n",
      "   [0.00392157 0.01176471 0.01176471]\n",
      "   [0.01176471 0.01960784 0.01960784]]\n",
      "\n",
      "  [[0.07450981 0.05490196 0.11372549]\n",
      "   [0.07058824 0.05490196 0.10588235]\n",
      "   [0.07450981 0.05882353 0.10196079]\n",
      "   ...\n",
      "   [0.         0.00784314 0.00392157]\n",
      "   [0.00392157 0.01176471 0.01176471]\n",
      "   [0.01176471 0.01960784 0.01960784]]\n",
      "\n",
      "  ...\n",
      "\n",
      "  [[0.19607843 0.16078432 0.3372549 ]\n",
      "   [0.19607843 0.15686275 0.33333334]\n",
      "   [0.19215687 0.15294118 0.32941177]\n",
      "   ...\n",
      "   [0.02745098 0.01960784 0.04313726]\n",
      "   [0.02745098 0.01960784 0.04313726]\n",
      "   [0.02745098 0.01960784 0.04313726]]\n",
      "\n",
      "  [[0.2        0.16078432 0.34117648]\n",
      "   [0.19607843 0.15686275 0.3372549 ]\n",
      "   [0.19215687 0.15294118 0.33333334]\n",
      "   ...\n",
      "   [0.02745098 0.01960784 0.04313726]\n",
      "   [0.02745098 0.01960784 0.04313726]\n",
      "   [0.02745098 0.01960784 0.04313726]]\n",
      "\n",
      "  [[0.2        0.16078432 0.34117648]\n",
      "   [0.19607843 0.15686275 0.3372549 ]\n",
      "   [0.19607843 0.15294118 0.3372549 ]\n",
      "   ...\n",
      "   [0.02745098 0.01960784 0.04313726]\n",
      "   [0.02745098 0.01960784 0.04313726]\n",
      "   [0.02745098 0.01960784 0.04313726]]]\n",
      "\n",
      "\n",
      " [[[0.0627451  0.07058824 0.10980392]\n",
      "   [0.05098039 0.0627451  0.09803922]\n",
      "   [0.02352941 0.03529412 0.07450981]\n",
      "   ...\n",
      "   [0.10980392 0.11764706 0.09803922]\n",
      "   [0.10588235 0.10980392 0.08235294]\n",
      "   [0.10588235 0.10980392 0.07450981]]\n",
      "\n",
      "  [[0.05490196 0.06666667 0.10196079]\n",
      "   [0.04705882 0.05882353 0.09411765]\n",
      "   [0.02352941 0.03529412 0.07058824]\n",
      "   ...\n",
      "   [0.10588235 0.11372549 0.09803922]\n",
      "   [0.10588235 0.10980392 0.08235294]\n",
      "   [0.10588235 0.10980392 0.07450981]]\n",
      "\n",
      "  [[0.03529412 0.05098039 0.09019608]\n",
      "   [0.03137255 0.04705882 0.08235294]\n",
      "   [0.01568628 0.03137255 0.06666667]\n",
      "   ...\n",
      "   [0.10196079 0.10980392 0.09411765]\n",
      "   [0.09803922 0.10588235 0.08235294]\n",
      "   [0.09803922 0.10588235 0.07450981]]\n",
      "\n",
      "  ...\n",
      "\n",
      "  [[0.7019608  0.4392157  0.38431373]\n",
      "   [0.6862745  0.43137255 0.38431373]\n",
      "   [0.6313726  0.4117647  0.38039216]\n",
      "   ...\n",
      "   [0.11764706 0.10196079 0.05490196]\n",
      "   [0.11764706 0.10588235 0.05490196]\n",
      "   [0.11764706 0.10588235 0.05098039]]\n",
      "\n",
      "  [[0.72156864 0.43137255 0.36862746]\n",
      "   [0.70980394 0.43137255 0.36862746]\n",
      "   [0.6745098  0.42352942 0.3764706 ]\n",
      "   ...\n",
      "   [0.11764706 0.10588235 0.05490196]\n",
      "   [0.12156863 0.10588235 0.05490196]\n",
      "   [0.12156863 0.10980392 0.05490196]]\n",
      "\n",
      "  [[0.7294118  0.43137255 0.36078432]\n",
      "   [0.7176471  0.43137255 0.3647059 ]\n",
      "   [0.6901961  0.42745098 0.3764706 ]\n",
      "   ...\n",
      "   [0.11764706 0.10588235 0.05490196]\n",
      "   [0.12156863 0.10980392 0.05490196]\n",
      "   [0.12156863 0.10980392 0.05490196]]]\n",
      "\n",
      "\n",
      " ...\n",
      "\n",
      "\n",
      " [[[0.1764706  0.25882354 0.36862746]\n",
      "   [0.1882353  0.26666668 0.3764706 ]\n",
      "   [0.23529412 0.30980393 0.41568628]\n",
      "   ...\n",
      "   [0.5058824  0.7058824  0.87058824]\n",
      "   [0.4509804  0.63529414 0.79607844]\n",
      "   [0.4392157  0.61960787 0.78039217]]\n",
      "\n",
      "  [[0.18431373 0.2627451  0.3764706 ]\n",
      "   [0.19215687 0.27450982 0.38431373]\n",
      "   [0.23529412 0.30980393 0.41568628]\n",
      "   ...\n",
      "   [0.49019608 0.6901961  0.8509804 ]\n",
      "   [0.43137255 0.60784316 0.76862746]\n",
      "   [0.41568628 0.5882353  0.7490196 ]]\n",
      "\n",
      "  [[0.21568628 0.2901961  0.40392157]\n",
      "   [0.21960784 0.29411766 0.40784314]\n",
      "   [0.24313726 0.30980393 0.42352942]\n",
      "   ...\n",
      "   [0.43529412 0.6117647  0.77254903]\n",
      "   [0.34117648 0.49803922 0.654902  ]\n",
      "   [0.31764707 0.46666667 0.62352943]]\n",
      "\n",
      "  ...\n",
      "\n",
      "  [[0.30588236 0.37254903 0.5372549 ]\n",
      "   [0.29803923 0.36078432 0.5294118 ]\n",
      "   [0.25490198 0.3137255  0.49019608]\n",
      "   ...\n",
      "   [0.15686275 0.36078432 0.58431375]\n",
      "   [0.18431373 0.39215687 0.60784316]\n",
      "   [0.1882353  0.39607844 0.6156863 ]]\n",
      "\n",
      "  [[0.2901961  0.35686275 0.5254902 ]\n",
      "   [0.28235295 0.34901962 0.5176471 ]\n",
      "   [0.25882354 0.31764707 0.49803922]\n",
      "   ...\n",
      "   [0.14901961 0.3647059  0.58431375]\n",
      "   [0.16470589 0.38431373 0.6       ]\n",
      "   [0.16862746 0.3882353  0.6039216 ]]\n",
      "\n",
      "  [[0.28627452 0.3529412  0.52156866]\n",
      "   [0.28235295 0.34509805 0.5176471 ]\n",
      "   [0.25882354 0.32156864 0.49803922]\n",
      "   ...\n",
      "   [0.14509805 0.3647059  0.58431375]\n",
      "   [0.16078432 0.38431373 0.6       ]\n",
      "   [0.16470589 0.3882353  0.6039216 ]]]\n",
      "\n",
      "\n",
      " [[[0.10588235 0.09803922 0.09803922]\n",
      "   [0.10588235 0.09803922 0.09803922]\n",
      "   [0.10588235 0.09803922 0.09803922]\n",
      "   ...\n",
      "   [0.627451   0.7607843  0.8509804 ]\n",
      "   [0.5686275  0.7019608  0.79607844]\n",
      "   [0.5137255  0.64705884 0.7411765 ]]\n",
      "\n",
      "  [[0.10588235 0.09803922 0.09803922]\n",
      "   [0.10588235 0.09803922 0.09803922]\n",
      "   [0.10588235 0.09803922 0.09803922]\n",
      "   ...\n",
      "   [0.6431373  0.7764706  0.8666667 ]\n",
      "   [0.59607846 0.7294118  0.81960785]\n",
      "   [0.53333336 0.6666667  0.7607843 ]]\n",
      "\n",
      "  [[0.10588235 0.09803922 0.09803922]\n",
      "   [0.10588235 0.09803922 0.09803922]\n",
      "   [0.10588235 0.09803922 0.09803922]\n",
      "   ...\n",
      "   [0.654902   0.7882353  0.8784314 ]\n",
      "   [0.627451   0.75686276 0.8509804 ]\n",
      "   [0.57254905 0.7058824  0.8       ]]\n",
      "\n",
      "  ...\n",
      "\n",
      "  [[0.17254902 0.16078432 0.16862746]\n",
      "   [0.16862746 0.16078432 0.16862746]\n",
      "   [0.16862746 0.16470589 0.17254902]\n",
      "   ...\n",
      "   [0.31764707 0.40784314 0.5568628 ]\n",
      "   [0.23529412 0.32941177 0.48235294]\n",
      "   [0.21176471 0.30980393 0.46666667]]\n",
      "\n",
      "  [[0.15294118 0.14117648 0.14509805]\n",
      "   [0.14901961 0.14117648 0.14901961]\n",
      "   [0.14901961 0.14509805 0.15294118]\n",
      "   ...\n",
      "   [0.31764707 0.40784314 0.5529412 ]\n",
      "   [0.25490198 0.34901962 0.5019608 ]\n",
      "   [0.25490198 0.3529412  0.50980395]]\n",
      "\n",
      "  [[0.1254902  0.11764706 0.11764706]\n",
      "   [0.12156863 0.11764706 0.12156863]\n",
      "   [0.1254902  0.11764706 0.1254902 ]\n",
      "   ...\n",
      "   [0.31764707 0.40392157 0.5529412 ]\n",
      "   [0.28235295 0.3764706  0.5294118 ]\n",
      "   [0.3137255  0.4117647  0.5686275 ]]]\n",
      "\n",
      "\n",
      " [[[1.         1.         1.        ]\n",
      "   [1.         1.         1.        ]\n",
      "   [1.         1.         1.        ]\n",
      "   ...\n",
      "   [1.         1.         1.        ]\n",
      "   [1.         1.         1.        ]\n",
      "   [1.         1.         1.        ]]\n",
      "\n",
      "  [[1.         1.         1.        ]\n",
      "   [1.         1.         1.        ]\n",
      "   [1.         1.         1.        ]\n",
      "   ...\n",
      "   [1.         1.         1.        ]\n",
      "   [1.         1.         1.        ]\n",
      "   [1.         1.         1.        ]]\n",
      "\n",
      "  [[1.         1.         1.        ]\n",
      "   [1.         1.         1.        ]\n",
      "   [1.         1.         1.        ]\n",
      "   ...\n",
      "   [0.99607843 1.         1.        ]\n",
      "   [1.         1.         1.        ]\n",
      "   [1.         1.         1.        ]]\n",
      "\n",
      "  ...\n",
      "\n",
      "  [[0.98039216 0.972549   0.972549  ]\n",
      "   [0.98039216 0.972549   0.972549  ]\n",
      "   [0.9764706  0.96862745 0.96862745]\n",
      "   ...\n",
      "   [0.20784314 0.1882353  0.1764706 ]\n",
      "   [0.32156864 0.30588236 0.29803923]\n",
      "   [0.36078432 0.34509805 0.34117648]]\n",
      "\n",
      "  [[0.98039216 0.972549   0.972549  ]\n",
      "   [0.98039216 0.972549   0.972549  ]\n",
      "   [0.9764706  0.96862745 0.96862745]\n",
      "   ...\n",
      "   [0.16470589 0.14509805 0.13725491]\n",
      "   [0.25882354 0.23921569 0.23529412]\n",
      "   [0.28627452 0.27058825 0.26666668]]\n",
      "\n",
      "  [[0.98039216 0.972549   0.972549  ]\n",
      "   [0.98039216 0.972549   0.972549  ]\n",
      "   [0.9764706  0.96862745 0.96862745]\n",
      "   ...\n",
      "   [0.14901961 0.13333334 0.12156863]\n",
      "   [0.23137255 0.21960784 0.21176471]\n",
      "   [0.2627451  0.24705882 0.24313726]]]]\n",
      "['BenAfflek' 'BenAfflek' 'BenAfflek' 'BenAfflek' 'BenAfflek' 'BenAfflek'\n",
      " 'BenAfflek' 'BenAfflek' 'BenAfflek' 'BenAfflek' 'BenAfflek' 'BenAfflek'\n",
      " 'Madonna' 'Madonna' 'Madonna' 'Madonna' 'Madonna' 'Madonna' 'Madonna'\n",
      " 'Madonna' 'Madonna' 'Madonna' 'Madonna']\n"
     ]
    }
   ],
   "source": [
    "import cv2 as cv\n",
    "import pandas as pd\n",
    "import numpy as np\n",
    "import tensorflow as tf\n",
    "import os\n",
    "haar_cascade=cv.CascadeClassifier(cv.data.haarcascades + \"haarcascade_frontalface_default.xml\")\n",
    "people = ['BenAfflek','Madonna']\n",
    "DIR = 'train'\n",
    "\n",
    "\n",
    "def create_train():\n",
    "    features = []\n",
    "    labels = []\n",
    "    for person in people:\n",
    "        path = f\"{DIR}/{person}\"\n",
    "        label =\"BenAfflek\" if people.index(person)==0 else \"Madonna\"\n",
    "\n",
    "        for img in os.listdir(path):\n",
    "            img_path = f\"{path}/{img}\"\n",
    "            if(img_path is None):\n",
    "                print(\"doldum\")\n",
    "            image_seq=cv.imread(img_path)\n",
    "            \n",
    "            \n",
    "            gray=cv.cvtColor(image_seq,cv.COLOR_BGR2GRAY)\n",
    "            faces_rect = haar_cascade.detectMultiScale(gray, scaleFactor=1.1, minNeighbors=4)\n",
    "\n",
    "            for (x,y,w,h) in faces_rect:\n",
    "                faces_roi =cv.resize(image_seq[y:y+h, x:x+w],(224,224))\n",
    "                  \n",
    "                features.append(faces_roi)\n",
    "                labels.append(label)\n",
    "            \n",
    "            \n",
    "            \n",
    "\n",
    "            fe\n",
    "    return np.array(features,dtype=\"float32\")/255.0,np.array(labels)\n",
    "\n",
    "features,labels=create_train()\n",
    "print('Training done ------------dd---')\n",
    "print(features)\n",
    "print(labels)"
   ]
  },
  {
   "cell_type": "code",
   "execution_count": 2,
   "metadata": {},
   "outputs": [],
   "source": [
    "labels=pd.get_dummies(labels)"
   ]
  },
  {
   "cell_type": "code",
   "execution_count": null,
   "metadata": {},
   "outputs": [],
   "source": []
  },
  {
   "cell_type": "code",
   "execution_count": 3,
   "metadata": {},
   "outputs": [
    {
     "data": {
      "text/plain": [
       "<BatchDataset element_spec=(TensorSpec(shape=(None, 224, 224, 3), dtype=tf.float32, name=None), TensorSpec(shape=(None, 2), dtype=tf.bool, name=None))>"
      ]
     },
     "execution_count": 3,
     "metadata": {},
     "output_type": "execute_result"
    }
   ],
   "source": [
    "data=tf.data.Dataset.from_tensor_slices((tf.constant(features),tf.constant(labels))).batch(4)\n",
    "data"
   ]
  },
  {
   "cell_type": "code",
   "execution_count": 4,
   "metadata": {},
   "outputs": [],
   "source": [
    "def create_model():\n",
    "    model=tf.keras.Sequential(\n",
    "        [\n",
    "            tf.keras.Input(shape=(224,224,3)),\n",
    "            tf.keras.layers.Conv2D(32,kernel_size=(3,3),activation='relu'),\n",
    "            tf.keras.layers.MaxPool2D(pool_size=(2,2)),\n",
    "            tf.keras.layers.Conv2D(64,kernel_size=(3,3),activation='relu'),\n",
    "            tf.keras.layers.MaxPool2D(pool_size=(2,2)),\n",
    "            tf.keras.layers.Conv2D(128,kernel_size=(3,3),activation='relu'),\n",
    "            tf.keras.layers.MaxPool2D(pool_size=(2,2)),\n",
    "            tf.keras.layers.Flatten(),\n",
    "            tf.keras.layers.Dropout(0.3),\n",
    "            tf.keras.layers.Dense(128,activation=\"relu\"),\n",
    "            tf.keras.layers.Dense(2,activation=\"softmax\")\n",
    "        ]\n",
    "    )\n",
    "    model.compile(\n",
    "        loss=tf.keras.losses.BinaryCrossentropy(),\n",
    "        optimizer=tf.keras.optimizers.Adam(),\n",
    "        metrics=[\"accuracy\"]\n",
    "    )\n",
    "    return model\n",
    "def train_model():\n",
    "    model=create_model()\n",
    "    model.fit(data,epochs=30)\n",
    "    return model\n"
   ]
  },
  {
   "cell_type": "code",
   "execution_count": 5,
   "metadata": {},
   "outputs": [
    {
     "name": "stdout",
     "output_type": "stream",
     "text": [
      "Epoch 1/30\n",
      "6/6 [==============================] - 2s 65ms/step - loss: 11.2440 - accuracy: 0.5217\n",
      "Epoch 2/30\n",
      "6/6 [==============================] - 0s 62ms/step - loss: 1.0054 - accuracy: 0.4783\n",
      "Epoch 3/30\n",
      "6/6 [==============================] - 0s 59ms/step - loss: 0.7542 - accuracy: 0.4783\n",
      "Epoch 4/30\n",
      "6/6 [==============================] - 0s 60ms/step - loss: 0.6972 - accuracy: 0.4783\n",
      "Epoch 5/30\n",
      "6/6 [==============================] - 0s 62ms/step - loss: 0.6920 - accuracy: 0.4783\n",
      "Epoch 6/30\n",
      "6/6 [==============================] - 0s 62ms/step - loss: 0.6748 - accuracy: 0.4783\n",
      "Epoch 7/30\n",
      "6/6 [==============================] - 0s 60ms/step - loss: 0.6761 - accuracy: 0.4783\n",
      "Epoch 8/30\n",
      "6/6 [==============================] - 0s 61ms/step - loss: 0.6381 - accuracy: 0.6522\n",
      "Epoch 9/30\n",
      "6/6 [==============================] - 0s 59ms/step - loss: 0.6162 - accuracy: 0.7826\n",
      "Epoch 10/30\n",
      "6/6 [==============================] - 0s 62ms/step - loss: 0.5501 - accuracy: 0.7826\n",
      "Epoch 11/30\n",
      "6/6 [==============================] - 0s 60ms/step - loss: 0.4705 - accuracy: 0.9130\n",
      "Epoch 12/30\n",
      "6/6 [==============================] - 0s 57ms/step - loss: 0.3069 - accuracy: 0.9130\n",
      "Epoch 13/30\n",
      "6/6 [==============================] - 0s 60ms/step - loss: 0.2202 - accuracy: 0.9130\n",
      "Epoch 14/30\n",
      "6/6 [==============================] - 0s 59ms/step - loss: 0.2394 - accuracy: 0.9130\n",
      "Epoch 15/30\n",
      "6/6 [==============================] - 0s 63ms/step - loss: 0.2588 - accuracy: 0.9130\n",
      "Epoch 16/30\n",
      "6/6 [==============================] - 0s 60ms/step - loss: 0.1803 - accuracy: 0.9130\n",
      "Epoch 17/30\n",
      "6/6 [==============================] - 0s 59ms/step - loss: 0.1098 - accuracy: 0.9565\n",
      "Epoch 18/30\n",
      "6/6 [==============================] - 0s 60ms/step - loss: 0.0556 - accuracy: 1.0000\n",
      "Epoch 19/30\n",
      "6/6 [==============================] - 0s 59ms/step - loss: 0.0273 - accuracy: 1.0000\n",
      "Epoch 20/30\n",
      "6/6 [==============================] - 0s 59ms/step - loss: 0.0081 - accuracy: 1.0000\n",
      "Epoch 21/30\n",
      "6/6 [==============================] - 0s 57ms/step - loss: 0.0033 - accuracy: 1.0000\n",
      "Epoch 22/30\n",
      "6/6 [==============================] - 0s 58ms/step - loss: 0.0012 - accuracy: 1.0000\n",
      "Epoch 23/30\n",
      "6/6 [==============================] - 0s 58ms/step - loss: 6.8132e-04 - accuracy: 1.0000\n",
      "Epoch 24/30\n",
      "6/6 [==============================] - 0s 61ms/step - loss: 5.9013e-04 - accuracy: 1.0000\n",
      "Epoch 25/30\n",
      "6/6 [==============================] - 0s 60ms/step - loss: 3.7473e-04 - accuracy: 1.0000\n",
      "Epoch 26/30\n",
      "6/6 [==============================] - 0s 58ms/step - loss: 3.0192e-04 - accuracy: 1.0000\n",
      "Epoch 27/30\n",
      "6/6 [==============================] - 0s 59ms/step - loss: 1.9274e-04 - accuracy: 1.0000\n",
      "Epoch 28/30\n",
      "6/6 [==============================] - 0s 64ms/step - loss: 1.7021e-04 - accuracy: 1.0000\n",
      "Epoch 29/30\n",
      "6/6 [==============================] - 0s 63ms/step - loss: 1.1495e-04 - accuracy: 1.0000\n",
      "Epoch 30/30\n",
      "6/6 [==============================] - 0s 66ms/step - loss: 1.0932e-04 - accuracy: 1.0000\n"
     ]
    }
   ],
   "source": [
    "model=train_model()"
   ]
  },
  {
   "cell_type": "code",
   "execution_count": 6,
   "metadata": {},
   "outputs": [],
   "source": [
    "val_dir=\"test\""
   ]
  },
  {
   "cell_type": "code",
   "execution_count": 7,
   "metadata": {},
   "outputs": [
    {
     "data": {
      "text/plain": [
       "['images.jpg',\n",
       " 'Madonna_Rebel_Heart_Tour_2015_-_Stockholm_(23051472299)_(cropped).jpg']"
      ]
     },
     "execution_count": 7,
     "metadata": {},
     "output_type": "execute_result"
    }
   ],
   "source": [
    "os.listdir(val_dir)"
   ]
  },
  {
   "cell_type": "code",
   "execution_count": 19,
   "metadata": {},
   "outputs": [
    {
     "data": {
      "text/plain": [
       "'BenAfflek'"
      ]
     },
     "execution_count": 19,
     "metadata": {},
     "output_type": "execute_result"
    }
   ],
   "source": [
    "labels.columns[0]"
   ]
  },
  {
   "cell_type": "code",
   "execution_count": 19,
   "metadata": {},
   "outputs": [
    {
     "name": "stdout",
     "output_type": "stream",
     "text": [
      "test/images.jpg\n",
      "1/1 [==============================] - 0s 38ms/step\n",
      "0\n",
      "test/Madonna_Rebel_Heart_Tour_2015_-_Stockholm_(23051472299)_(cropped).jpg\n",
      "1/1 [==============================] - 0s 28ms/step\n",
      "1\n",
      "1/1 [==============================] - 0s 32ms/step\n",
      "0\n"
     ]
    }
   ],
   "source": [
    "def predict():\n",
    "    features = []\n",
    "    \n",
    "    \n",
    "    for img in os.listdir(val_dir):\n",
    "        img_path = f\"{val_dir}/{img}\"\n",
    "        print(img_path)\n",
    "        \n",
    "        image_seq=cv.imread(img_path)\n",
    "        if image_seq is None:\n",
    "            continue   \n",
    "            \n",
    "        gray=cv.cvtColor(image_seq,cv.COLOR_BGR2GRAY)\n",
    "        faces_rect = haar_cascade.detectMultiScale(gray, scaleFactor=1.1, minNeighbors=3)\n",
    "        if faces_rect is None:\n",
    "            continue   \n",
    "        for (x,y,w,h) in faces_rect:\n",
    "            faces_roi =cv.resize(image_seq[y:y+h, x:x+w],(224,224))\n",
    "            pred=model.predict(np.expand_dims(faces_roi, axis=0) / 255.0)\n",
    "            print(np.argmax(pred))\n",
    "            \n",
    "            cv.rectangle(image_seq, (x, y), (x + w, y + h), (0, 255, 0), thickness=2)\n",
    "            cv.putText(image_seq, labels.columns[np.argmax(pred)], (50,50), cv.FONT_HERSHEY_COMPLEX, 1.0, (0,255,0), thickness=2)\n",
    "            \n",
    "            cv.imshow(\"Pred\",image_seq)\n",
    "            cv.waitKey(0)\n",
    "            cv.destroyAllWindows()\n",
    "    \n",
    "predict()\n",
    "\n",
    "\n"
   ]
  },
  {
   "cell_type": "code",
   "execution_count": 85,
   "metadata": {},
   "outputs": [
    {
     "data": {
      "text/plain": [
       "3"
      ]
     },
     "execution_count": 85,
     "metadata": {},
     "output_type": "execute_result"
    }
   ],
   "source": [
    "len(features_p)"
   ]
  },
  {
   "cell_type": "code",
   "execution_count": 86,
   "metadata": {},
   "outputs": [
    {
     "data": {
      "text/plain": [
       "[1, 1, 1]"
      ]
     },
     "execution_count": 86,
     "metadata": {},
     "output_type": "execute_result"
    }
   ],
   "source": [
    "labels"
   ]
  },
  {
   "cell_type": "code",
   "execution_count": 71,
   "metadata": {},
   "outputs": [
    {
     "data": {
      "text/plain": [
       "<BatchDataset element_spec=TensorSpec(shape=(None, 224, 224, 3), dtype=tf.float32, name=None)>"
      ]
     },
     "execution_count": 71,
     "metadata": {},
     "output_type": "execute_result"
    }
   ],
   "source": [
    "valid=tf.data.Dataset.from_tensor_slices(tf.constant(features_p)).batch(4)\n",
    "valid"
   ]
  },
  {
   "cell_type": "code",
   "execution_count": 9,
   "metadata": {},
   "outputs": [
    {
     "ename": "NameError",
     "evalue": "name 'valid' is not defined",
     "output_type": "error",
     "traceback": [
      "\u001b[1;31m---------------------------------------------------------------------------\u001b[0m",
      "\u001b[1;31mNameError\u001b[0m                                 Traceback (most recent call last)",
      "Cell \u001b[1;32mIn[9], line 1\u001b[0m\n\u001b[1;32m----> 1\u001b[0m model\u001b[38;5;241m.\u001b[39mpredict(\u001b[43mvalid\u001b[49m)\n",
      "\u001b[1;31mNameError\u001b[0m: name 'valid' is not defined"
     ]
    }
   ],
   "source": [
    "model.predict(valid)"
   ]
  },
  {
   "cell_type": "code",
   "execution_count": 2,
   "metadata": {},
   "outputs": [],
   "source": [
    "import numpy as np"
   ]
  },
  {
   "cell_type": "code",
   "execution_count": 3,
   "metadata": {},
   "outputs": [
    {
     "data": {
      "text/plain": [
       "0"
      ]
     },
     "execution_count": 3,
     "metadata": {},
     "output_type": "execute_result"
    }
   ],
   "source": [
    "np.argmax([9.9977928e-01, 2.2074059e-04])\n",
    "       \n",
    "       "
   ]
  },
  {
   "cell_type": "code",
   "execution_count": null,
   "metadata": {},
   "outputs": [],
   "source": []
  }
 ],
 "metadata": {
  "kernelspec": {
   "display_name": "yedek",
   "language": "python",
   "name": "python3"
  },
  "language_info": {
   "codemirror_mode": {
    "name": "ipython",
    "version": 3
   },
   "file_extension": ".py",
   "mimetype": "text/x-python",
   "name": "python",
   "nbconvert_exporter": "python",
   "pygments_lexer": "ipython3",
   "version": "3.10.8"
  }
 },
 "nbformat": 4,
 "nbformat_minor": 2
}
